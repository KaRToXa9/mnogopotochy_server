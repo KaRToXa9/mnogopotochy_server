{
 "cells": [
  {
   "cell_type": "code",
   "execution_count": 1,
   "id": "d4a5a0cd",
   "metadata": {},
   "outputs": [
    {
     "name": "stdout",
     "output_type": "stream",
     "text": [
      "fgjff\n",
      "Отпаравлено :fgjff\n",
      "gfjfj\n",
      "Отпаравлено :gfjfj\n",
      "закрыть\n"
     ]
    },
    {
     "name": "stderr",
     "output_type": "stream",
     "text": [
      "Exception in thread Exception in thread Thread-7:\n",
      "Traceback (most recent call last):\n",
      "  File \"C:\\Users\\Lenovo\\anaconda3\\lib\\threading.py\", line 932, in _bootstrap_inner\n",
      "Thread-6:\n",
      "Traceback (most recent call last):\n",
      "  File \"C:\\Users\\Lenovo\\anaconda3\\lib\\threading.py\", line 932, in _bootstrap_inner\n",
      "    self.run()\n",
      "  File \"C:\\Users\\Lenovo\\anaconda3\\lib\\threading.py\", line 870, in run\n",
      "    self.run()\n",
      "  File \"C:\\Users\\Lenovo\\anaconda3\\lib\\threading.py\", line 870, in run\n",
      "    self._target(*self._args, **self._kwargs)\n",
      "  File \"<ipython-input-1-1ed8759e4839>\", line 17, in task\n",
      "    self._target(*self._args, **self._kwargs)\n",
      "  File \"<ipython-input-1-1ed8759e4839>\", line 25, in task2\n",
      "ConnectionAbortedErrorOSError: [WinError 10038] Сделана попытка выполнить операцию на объекте, не являющемся сокетом\n",
      ": [WinError 10053] Программа на вашем хост-компьютере разорвала установленное подключение\n"
     ]
    }
   ],
   "source": [
    "import socket\n",
    "from threading import Thread\n",
    "import threading\n",
    "import sys\n",
    "\n",
    "\n",
    "Server_host = \"127.0.0.1\"\n",
    "port = 9090\n",
    "\n",
    "\n",
    "client = socket.socket(socket.AF_INET, socket.SOCK_STREAM)\n",
    "client.connect((Server_host, port))\n",
    "#client.sendall(bytes(\"979879789\", \"UTF-8\"))\n",
    "\n",
    "def task():\n",
    "    while True:\n",
    "        in_data =  client.recv(4096)\n",
    "        print(\"От сервера :\" ,in_data.decode())\n",
    "\n",
    "def task2():\n",
    "    while True:\n",
    "        out_data = input()\n",
    "        if out_data == 'закрыть':\n",
    "            client.close()\n",
    "        client.sendall(bytes(out_data,'UTF-8'))\n",
    "        print(\"Отпаравлено :\" + str(out_data))\n",
    "\n",
    "t1 = Thread(target=task2)\n",
    "t2 = Thread(target=task)\n",
    "\n",
    "t1.start()\n",
    "t2.start()\n",
    "\n",
    "t1.join()\n",
    "t2.join()\n"
   ]
  },
  {
   "cell_type": "code",
   "execution_count": null,
   "id": "1aa3abec",
   "metadata": {},
   "outputs": [],
   "source": []
  }
 ],
 "metadata": {
  "kernelspec": {
   "display_name": "Python 3",
   "language": "python",
   "name": "python3"
  },
  "language_info": {
   "codemirror_mode": {
    "name": "ipython",
    "version": 3
   },
   "file_extension": ".py",
   "mimetype": "text/x-python",
   "name": "python",
   "nbconvert_exporter": "python",
   "pygments_lexer": "ipython3",
   "version": "3.8.8"
  }
 },
 "nbformat": 4,
 "nbformat_minor": 5
}
