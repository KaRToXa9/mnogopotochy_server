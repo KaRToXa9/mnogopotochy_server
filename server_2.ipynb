{
 "cells": [
  {
   "cell_type": "code",
   "execution_count": null,
   "id": "de2c1197",
   "metadata": {},
   "outputs": [
    {
     "name": "stdout",
     "output_type": "stream",
     "text": [
      "Новое подключение:  ('127.0.0.1', 10197)\n",
      "Подключение с клиента :  ('127.0.0.1', 10197)\n",
      "fgjff\n",
      "gfjfj\n"
     ]
    },
    {
     "name": "stderr",
     "output_type": "stream",
     "text": [
      "Exception in thread Thread-6:\n",
      "Traceback (most recent call last):\n",
      "  File \"C:\\Users\\Lenovo\\anaconda3\\lib\\threading.py\", line 932, in _bootstrap_inner\n",
      "    self.run()\n",
      "  File \"<ipython-input-1-4b9d2081c6be>\", line 14, in run\n",
      "ConnectionResetError: [WinError 10054] Удаленный хост принудительно разорвал существующее подключение\n"
     ]
    }
   ],
   "source": [
    "import socket, threading\n",
    "import sys\n",
    "\n",
    "class ClientThread(threading.Thread):\n",
    "    def __init__(self,clientAddress,clientsocket):\n",
    "        threading.Thread.__init__(self)\n",
    "        self.csocket = clientsocket\n",
    "        print (\"Новое подключение: \", clientAddress)\n",
    "\n",
    "    def run(self):\n",
    "        print (\"Подключение с клиента : \", clientAddress)\n",
    "        msg = ''\n",
    "        while True:\n",
    "            data = self.csocket.recv(4096)\n",
    "            msg = data.decode()\n",
    "            print(msg)\n",
    "            if msg == '':\n",
    "                server.close()\n",
    "                print(\"Отключение\")\n",
    "                break\n",
    "LOCALHOST = \"127.0.0.1\"\n",
    "PORT = 9090\n",
    "\n",
    "server = socket.socket(socket.AF_INET, socket.SOCK_STREAM)\n",
    "server.setsockopt(socket.SOL_SOCKET, socket.SO_REUSEADDR, 1)\n",
    "\n",
    "server.bind((LOCALHOST, PORT))\n",
    "while True:\n",
    "    server.listen(1)\n",
    "    clientsock, clientAddress = server.accept()\n",
    "    newthread = ClientThread(clientAddress, clientsock)\n",
    "    newthread.start()"
   ]
  },
  {
   "cell_type": "code",
   "execution_count": null,
   "id": "9c925e2b",
   "metadata": {},
   "outputs": [],
   "source": []
  }
 ],
 "metadata": {
  "kernelspec": {
   "display_name": "Python 3",
   "language": "python",
   "name": "python3"
  },
  "language_info": {
   "codemirror_mode": {
    "name": "ipython",
    "version": 3
   },
   "file_extension": ".py",
   "mimetype": "text/x-python",
   "name": "python",
   "nbconvert_exporter": "python",
   "pygments_lexer": "ipython3",
   "version": "3.8.8"
  }
 },
 "nbformat": 4,
 "nbformat_minor": 5
}
